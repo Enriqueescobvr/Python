{
 "cells": [
  {
   "cell_type": "markdown",
   "id": "3d098f81",
   "metadata": {},
   "source": [
    "#01. Importing Libraries"
   ]
  },
  {
   "cell_type": "code",
   "execution_count": null,
   "id": "f389f671",
   "metadata": {},
   "outputs": [],
   "source": [
    "# Import libraries"
   ]
  },
  {
   "cell_type": "code",
   "execution_count": 2,
   "id": "47f23951",
   "metadata": {},
   "outputs": [],
   "source": [
    "import pandas as pd\n",
    "import numpy as np\n",
    "import os"
   ]
  },
  {
   "cell_type": "code",
   "execution_count": 10,
   "id": "5af8a690",
   "metadata": {},
   "outputs": [],
   "source": [
    "AXY = 5"
   ]
  },
  {
   "cell_type": "code",
   "execution_count": 11,
   "id": "3ba3c574",
   "metadata": {},
   "outputs": [
    {
     "name": "stdout",
     "output_type": "stream",
     "text": [
      "5\n"
     ]
    }
   ],
   "source": [
    "print(AXY)"
   ]
  },
  {
   "cell_type": "code",
   "execution_count": 12,
   "id": "e5ea55a7",
   "metadata": {},
   "outputs": [
    {
     "data": {
      "text/plain": [
       "int"
      ]
     },
     "execution_count": 12,
     "metadata": {},
     "output_type": "execute_result"
    }
   ],
   "source": [
    "type(AXY)"
   ]
  },
  {
   "cell_type": "markdown",
   "id": "58bccade",
   "metadata": {},
   "source": [
    "02. Data Types"
   ]
  },
  {
   "cell_type": "code",
   "execution_count": 13,
   "id": "c4d40721",
   "metadata": {},
   "outputs": [],
   "source": [
    "# Task 4.2 Question 7"
   ]
  },
  {
   "cell_type": "code",
   "execution_count": 15,
   "id": "0922035c",
   "metadata": {},
   "outputs": [
    {
     "data": {
      "text/plain": [
       "100"
      ]
     },
     "execution_count": 15,
     "metadata": {},
     "output_type": "execute_result"
    }
   ],
   "source": [
    "a = 75\n",
    "b = 25\n",
    "\n",
    "a + b "
   ]
  },
  {
   "cell_type": "code",
   "execution_count": 16,
   "id": "b584988f",
   "metadata": {},
   "outputs": [
    {
     "data": {
      "text/plain": [
       "100"
      ]
     },
     "execution_count": 16,
     "metadata": {},
     "output_type": "execute_result"
    }
   ],
   "source": [
    "x = 145\n",
    "y = 15\n",
    "z = 30\n",
    "\n",
    "x - y - z"
   ]
  },
  {
   "cell_type": "code",
   "execution_count": 17,
   "id": "8eb919f9",
   "metadata": {},
   "outputs": [
    {
     "data": {
      "text/plain": [
       "100"
      ]
     },
     "execution_count": 17,
     "metadata": {},
     "output_type": "execute_result"
    }
   ],
   "source": [
    "d = 74\n",
    "g = 26\n",
    "\n",
    "d + g"
   ]
  },
  {
   "cell_type": "code",
   "execution_count": null,
   "id": "951794a5",
   "metadata": {},
   "outputs": [],
   "source": [
    "# Task 4.2 Question 8"
   ]
  },
  {
   "cell_type": "code",
   "execution_count": 19,
   "id": "369d25fb",
   "metadata": {},
   "outputs": [
    {
     "data": {
      "text/plain": [
       "2.5384615384615383"
      ]
     },
     "execution_count": 19,
     "metadata": {},
     "output_type": "execute_result"
    }
   ],
   "source": [
    "a = 3.3\n",
    "b = 1.3\n",
    "\n",
    "a / b"
   ]
  },
  {
   "cell_type": "code",
   "execution_count": 20,
   "id": "d748cc90",
   "metadata": {},
   "outputs": [
    {
     "data": {
      "text/plain": [
       "3.4285714285714284"
      ]
     },
     "execution_count": 20,
     "metadata": {},
     "output_type": "execute_result"
    }
   ],
   "source": [
    "dave = 7.2\n",
    "george = 2.1\n",
    "\n",
    "dave / george"
   ]
  },
  {
   "cell_type": "code",
   "execution_count": null,
   "id": "eea149b4",
   "metadata": {},
   "outputs": [],
   "source": [
    "# Task 4.2 Question 9"
   ]
  },
  {
   "cell_type": "code",
   "execution_count": 21,
   "id": "31e8bcc1",
   "metadata": {},
   "outputs": [
    {
     "data": {
      "text/plain": [
       "'Happy'"
      ]
     },
     "execution_count": 21,
     "metadata": {},
     "output_type": "execute_result"
    }
   ],
   "source": [
    "first = 'Hap'\n",
    "last = 'py'\n",
    "\n",
    "first + last"
   ]
  },
  {
   "cell_type": "code",
   "execution_count": 23,
   "id": "b85baa26",
   "metadata": {},
   "outputs": [
    {
     "data": {
      "text/plain": [
       "'Bandaid'"
      ]
     },
     "execution_count": 23,
     "metadata": {},
     "output_type": "execute_result"
    }
   ],
   "source": [
    "first = 'Band'\n",
    "last = 'aid'\n",
    "\n",
    "first + last"
   ]
  },
  {
   "cell_type": "code",
   "execution_count": null,
   "id": "1da1d6c6",
   "metadata": {},
   "outputs": [],
   "source": [
    "# Task 4.2 Question 10"
   ]
  },
  {
   "cell_type": "code",
   "execution_count": 27,
   "id": "17afe59e",
   "metadata": {},
   "outputs": [
    {
     "name": "stdout",
     "output_type": "stream",
     "text": [
      "I am happy today.\n"
     ]
    }
   ],
   "source": [
    "a = \"I \"\n",
    "b = \"am \"\n",
    "c = \"happy \"\n",
    "d = \"today.\"\n",
    "\n",
    "message = a + b + c + d\n",
    "print(message)"
   ]
  },
  {
   "cell_type": "code",
   "execution_count": 28,
   "id": "3eb79d62",
   "metadata": {},
   "outputs": [
    {
     "name": "stdout",
     "output_type": "stream",
     "text": [
      "I really enjoyed the dinner.\n"
     ]
    }
   ],
   "source": [
    "a = \"I \"\n",
    "b = \"enjoyed \"\n",
    "c = \"the \"\n",
    "d = \"dinner.\"\n",
    "e = \"really \"\n",
    "\n",
    "message = a + e + b + c + d\n",
    "print(message)"
   ]
  },
  {
   "cell_type": "code",
   "execution_count": null,
   "id": "682cdc03",
   "metadata": {},
   "outputs": [],
   "source": []
  }
 ],
 "metadata": {
  "kernelspec": {
   "display_name": "Python 3 (ipykernel)",
   "language": "python",
   "name": "python3"
  },
  "language_info": {
   "codemirror_mode": {
    "name": "ipython",
    "version": 3
   },
   "file_extension": ".py",
   "mimetype": "text/x-python",
   "name": "python",
   "nbconvert_exporter": "python",
   "pygments_lexer": "ipython3",
   "version": "3.11.5"
  }
 },
 "nbformat": 4,
 "nbformat_minor": 5
}
